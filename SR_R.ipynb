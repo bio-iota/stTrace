{
 "cells": [
  {
   "cell_type": "code",
   "execution_count": null,
   "id": "83524963-8e44-4e38-9ab3-f4fe3fec3bf5",
   "metadata": {
    "tags": []
   },
   "outputs": [],
   "source": [
    "library(SCENT)\n",
    "library(methods)\n",
    "library(Seurat)\n",
    "library(patchwork)\n",
    "library(dplyr)\n",
    "library(reshape2)\n",
    "library(stringr)\n",
    "library(ggplot2)\n",
    "library(tidyverse)"
   ]
  },
  {
   "cell_type": "code",
   "execution_count": null,
   "id": "d0a2bc25-1474-4b96-95d9-6a4f7a10f9dd",
   "metadata": {
    "tags": []
   },
   "outputs": [],
   "source": [
    "\n",
    "breast_data <- Load10X_Spatial('the folder path of the file', \n",
    "                    filename = \"the file name.h5\")\n",
    "\n",
    "expressiondata <- as(as.matrix(breast_data@assays$Spatial$counts), \"sparseMatrix\")\n",
    "\n"
   ]
  },
  {
   "cell_type": "code",
   "execution_count": null,
   "id": "325baa2c-f902-44bd-8081-0d25a0ee15f9",
   "metadata": {
    "tags": []
   },
   "outputs": [],
   "source": [
    "lscChu.m <- log2(expressiondata+1)\n",
    "range(lscChu.m)\n"
   ]
  },
  {
   "cell_type": "code",
   "execution_count": null,
   "id": "c5a9e191-6c74-4b24-bf8e-be42af93ef57",
   "metadata": {
    "tags": []
   },
   "outputs": [],
   "source": [
    "ppi = read.csv('ppi file, downlaod from String Database', row.names = 1)"
   ]
  },
  {
   "cell_type": "code",
   "execution_count": null,
   "id": "93edc3bc-91e1-413a-bd0a-186e4d8dddf1",
   "metadata": {
    "tags": []
   },
   "outputs": [],
   "source": [
    "ppimat<-as.matrix(ppi)"
   ]
  },
  {
   "cell_type": "code",
   "execution_count": null,
   "id": "35f52a8a-a07b-43d2-a027-81b60db0c532",
   "metadata": {
    "tags": []
   },
   "outputs": [],
   "source": [
    "ppimat[is.na(ppimat)] <- 0"
   ]
  },
  {
   "cell_type": "code",
   "execution_count": null,
   "id": "478e379f-2a08-4261-bb5e-12ea64b3a878",
   "metadata": {
    "tags": []
   },
   "outputs": [],
   "source": [
    "integ.l <- DoIntegPPI(exp = lscChu.m, ppiA = ppimat)\n",
    "str(integ.l)"
   ]
  },
  {
   "cell_type": "code",
   "execution_count": null,
   "id": "7eed00b4-7cf1-49a2-92bc-2a6ad6eb6d73",
   "metadata": {
    "tags": []
   },
   "outputs": [],
   "source": [
    "sr.o <- CompSRana(integ.l, local = FALSE, mc.cores = 4)"
   ]
  },
  {
   "cell_type": "code",
   "execution_count": null,
   "id": "85aeabb4-6d2e-4d63-86a1-3d00287ae46b",
   "metadata": {
    "tags": []
   },
   "outputs": [],
   "source": [
    "sr <- sr.o[1]\n",
    "sr<- as.data.frame(Index<- colnames(expressiondata))\n",
    "sr['SR']<- sr.o[1]\n",
    "sr"
   ]
  },
  {
   "cell_type": "code",
   "execution_count": null,
   "id": "122a4da4-b120-4d47-b8fd-ca16e8e5e8f9",
   "metadata": {},
   "outputs": [],
   "source": [
    "write.csv(sr,'SR.csv')"
   ]
  }
 ],
 "metadata": {
  "kernelspec": {
   "display_name": "R",
   "language": "R",
   "name": "ir"
  },
  "language_info": {
   "codemirror_mode": "r",
   "file_extension": ".r",
   "mimetype": "text/x-r-source",
   "name": "R",
   "pygments_lexer": "r",
   "version": "4.3.1"
  }
 },
 "nbformat": 4,
 "nbformat_minor": 5
}
